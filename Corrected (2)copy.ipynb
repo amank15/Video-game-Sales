{
  "nbformat": 4,
  "nbformat_minor": 0,
  "metadata": {
    "colab": {
      "name": "Corrected.ipynb",
      "provenance": [],
      "collapsed_sections": []
    },
    "kernelspec": {
      "name": "python3",
      "display_name": "Python 3"
    }
  },
  "cells": [
    {
      "cell_type": "markdown",
      "metadata": {
        "id": "c4ikj5j-PWiV"
      },
      "source": [
        "## *Predicting Video Games Sales using ML*"
      ]
    },
    {
      "cell_type": "markdown",
      "metadata": {
        "id": "qmKbOVVwPrBO"
      },
      "source": [
        "Video games have become immensely popular over the past decade. The global games market in 2019 was estimated at $148.8 billion. In this article, you’ll learn how to implement a Machine Learning model that can predict the global sales of a video game depending on certain features such as its genre, critic reviews, and user reviews in Python.\r\n",
        "\r\n",
        "As the global sales of a video game is a continuous quantity, we’ll have to implement a regression model. Regression is a form of supervised machine learning algorithm that can predict a target variable (which should be a continuous value) using a set of independent features. Some of the applications include salary forecasting, real estate predictions, etc.\r\n",
        "\r\n"
      ]
    },
    {
      "cell_type": "markdown",
      "metadata": {
        "id": "-twRgiZdO5NB"
      },
      "source": [
        "## *Dataset*"
      ]
    },
    {
      "cell_type": "markdown",
      "metadata": {
        "id": "8SCXOcfTO_qT"
      },
      "source": [
        "we can download the dataset from kaggle. It contains 16719 observations/rows and 16 features/columns where the features include:\r\n",
        "\r\n",
        "NA_Sales, EU_Sales, JP_Sales: Sales in North America, Europe and Japan (in millions).\r\n",
        "\r\n",
        "Other_Sales: Sales in other parts of the world (in millions).\r\n",
        "\r\n",
        "Global_Sales: Total worldwide sales (in millions).\r\n",
        "\r\n",
        "Rating: The ESRB ratings."
      ]
    },
    {
      "cell_type": "markdown",
      "metadata": {
        "id": "GPPDnS1mOaID"
      },
      "source": [
        "## *Code*"
      ]
    },
    {
      "cell_type": "code",
      "metadata": {
        "colab": {
          "base_uri": "https://localhost:8080/"
        },
        "id": "-RhAbuK4C5ol",
        "outputId": "0dcb3a3c-c933-4b51-f0f2-c5aa47331687"
      },
      "source": [
        "# Importing the required libraries\r\n",
        "import pandas as pd\r\n",
        "import numpy as np\r\n",
        "# Importing the dataset\r\n",
        "dataset = pd.read_csv('Video_Games_Sales_as_at_22_Dec_2016.csv')\r\n",
        "# Dropping certain less important features\r\n",
        "dataset.drop(columns = ['Year_of_Release', 'Developer', 'Publisher', 'Platform'], inplace = True)\r\n",
        "# To view the columns with missing values\r\n",
        "print('Feature name || Total missing values')\r\n",
        "print(dataset.isna().sum())"
      ],
      "execution_count": 16,
      "outputs": [
        {
          "output_type": "stream",
          "text": [
            "Feature name || Total missing values\n",
            "Name               2\n",
            "Genre              2\n",
            "NA_Sales           0\n",
            "EU_Sales           0\n",
            "JP_Sales           0\n",
            "Other_Sales        0\n",
            "Global_Sales       0\n",
            "Critic_Score    8582\n",
            "Critic_Count    8582\n",
            "User_Score      9129\n",
            "User_Count      9129\n",
            "Rating          6769\n",
            "dtype: int64\n"
          ],
          "name": "stdout"
        }
      ]
    },
    {
      "cell_type": "markdown",
      "metadata": {
        "id": "xClKfLjsOw2k"
      },
      "source": [
        "We drop certain features in order to reduce the time required to train the model."
      ]
    },
    {
      "cell_type": "code",
      "metadata": {
        "colab": {
          "base_uri": "https://localhost:8080/",
          "height": 291
        },
        "id": "d3t5SX9mBGBo",
        "outputId": "f05311f0-6d14-4da8-e80d-c651556328b1"
      },
      "source": [
        "dataset.head()"
      ],
      "execution_count": 15,
      "outputs": [
        {
          "output_type": "execute_result",
          "data": {
            "text/html": [
              "<div>\n",
              "<style scoped>\n",
              "    .dataframe tbody tr th:only-of-type {\n",
              "        vertical-align: middle;\n",
              "    }\n",
              "\n",
              "    .dataframe tbody tr th {\n",
              "        vertical-align: top;\n",
              "    }\n",
              "\n",
              "    .dataframe thead th {\n",
              "        text-align: right;\n",
              "    }\n",
              "</style>\n",
              "<table border=\"1\" class=\"dataframe\">\n",
              "  <thead>\n",
              "    <tr style=\"text-align: right;\">\n",
              "      <th></th>\n",
              "      <th>Name</th>\n",
              "      <th>Genre</th>\n",
              "      <th>NA_Sales</th>\n",
              "      <th>EU_Sales</th>\n",
              "      <th>JP_Sales</th>\n",
              "      <th>Other_Sales</th>\n",
              "      <th>Global_Sales</th>\n",
              "      <th>Critic_Score</th>\n",
              "      <th>Critic_Count</th>\n",
              "      <th>User_Score</th>\n",
              "      <th>User_Count</th>\n",
              "      <th>Rating</th>\n",
              "    </tr>\n",
              "  </thead>\n",
              "  <tbody>\n",
              "    <tr>\n",
              "      <th>0</th>\n",
              "      <td>Wii Sports</td>\n",
              "      <td>Sports</td>\n",
              "      <td>41.36</td>\n",
              "      <td>28.96</td>\n",
              "      <td>3.77</td>\n",
              "      <td>8.45</td>\n",
              "      <td>82.53</td>\n",
              "      <td>76.0</td>\n",
              "      <td>51.0</td>\n",
              "      <td>8.0</td>\n",
              "      <td>322.0</td>\n",
              "      <td>E</td>\n",
              "    </tr>\n",
              "    <tr>\n",
              "      <th>1</th>\n",
              "      <td>Super Mario Bros.</td>\n",
              "      <td>Platform</td>\n",
              "      <td>29.08</td>\n",
              "      <td>3.58</td>\n",
              "      <td>6.81</td>\n",
              "      <td>0.77</td>\n",
              "      <td>40.24</td>\n",
              "      <td>NaN</td>\n",
              "      <td>NaN</td>\n",
              "      <td>NaN</td>\n",
              "      <td>NaN</td>\n",
              "      <td>NaN</td>\n",
              "    </tr>\n",
              "    <tr>\n",
              "      <th>2</th>\n",
              "      <td>Mario Kart Wii</td>\n",
              "      <td>Racing</td>\n",
              "      <td>15.68</td>\n",
              "      <td>12.76</td>\n",
              "      <td>3.79</td>\n",
              "      <td>3.29</td>\n",
              "      <td>35.52</td>\n",
              "      <td>82.0</td>\n",
              "      <td>73.0</td>\n",
              "      <td>8.3</td>\n",
              "      <td>709.0</td>\n",
              "      <td>E</td>\n",
              "    </tr>\n",
              "    <tr>\n",
              "      <th>3</th>\n",
              "      <td>Wii Sports Resort</td>\n",
              "      <td>Sports</td>\n",
              "      <td>15.61</td>\n",
              "      <td>10.93</td>\n",
              "      <td>3.28</td>\n",
              "      <td>2.95</td>\n",
              "      <td>32.77</td>\n",
              "      <td>80.0</td>\n",
              "      <td>73.0</td>\n",
              "      <td>8.0</td>\n",
              "      <td>192.0</td>\n",
              "      <td>E</td>\n",
              "    </tr>\n",
              "    <tr>\n",
              "      <th>4</th>\n",
              "      <td>Pokemon Red/Pokemon Blue</td>\n",
              "      <td>Role-Playing</td>\n",
              "      <td>11.27</td>\n",
              "      <td>8.89</td>\n",
              "      <td>10.22</td>\n",
              "      <td>1.00</td>\n",
              "      <td>31.37</td>\n",
              "      <td>NaN</td>\n",
              "      <td>NaN</td>\n",
              "      <td>NaN</td>\n",
              "      <td>NaN</td>\n",
              "      <td>NaN</td>\n",
              "    </tr>\n",
              "  </tbody>\n",
              "</table>\n",
              "</div>"
            ],
            "text/plain": [
              "                       Name         Genre  ...  User_Count  Rating\n",
              "0                Wii Sports        Sports  ...       322.0       E\n",
              "1         Super Mario Bros.      Platform  ...         NaN     NaN\n",
              "2            Mario Kart Wii        Racing  ...       709.0       E\n",
              "3         Wii Sports Resort        Sports  ...       192.0       E\n",
              "4  Pokemon Red/Pokemon Blue  Role-Playing  ...         NaN     NaN\n",
              "\n",
              "[5 rows x 12 columns]"
            ]
          },
          "metadata": {
            "tags": []
          },
          "execution_count": 15
        }
      ]
    },
    {
      "cell_type": "code",
      "metadata": {
        "id": "hJHflLYCDLC0"
      },
      "source": [
        "X = dataset.iloc[:, :].values\r\n",
        "X = np.delete(X, 6, 1)\r\n",
        "y = dataset.iloc[:, 6:7].values\r\n",
        "# Splitting the dataset into Train and Test sets\r\n",
        "from sklearn.model_selection import train_test_split\r\n",
        "X_train, X_test, y_train, y_test = train_test_split(X, y, test_size = 0.3, random_state = 0)\r\n",
        "# Saving name of the games in training and test set\r\n",
        "games_in_training_set = X_train[:, 0]\r\n",
        "games_in_test_set = X_test[:, 0]\r\n",
        "# Dropping the column that contains the name of the games\r\n",
        "X_train = X_train[:, 1:]\r\n",
        "X_test = X_test[:, 1:]"
      ],
      "execution_count": 14,
      "outputs": []
    },
    {
      "cell_type": "markdown",
      "metadata": {
        "id": "BpXJ5lxLQM5W"
      },
      "source": [
        "Here, we initialize ‘X’ and ‘y’ where ‘X’ is the set of independent variables and ‘y’ the target variable i.e. the Global_Sales. The Global_Sales column which is present at index 6 in ‘X’ is removed using the np.delete() function before the dataset is split into training and test sets. We save the name of the games in a separate array named  ‘games_in_training_set’ and ‘games_in_test_set’ as these names will not be of much help when predicting the global sales."
      ]
    },
    {
      "cell_type": "code",
      "metadata": {
        "id": "EhP05rJbDSJe"
      },
      "source": [
        "from sklearn.impute import SimpleImputer\r\n",
        "imputer = SimpleImputer(missing_values=np.nan, strategy='mean')\r\n",
        "\r\n",
        "from sklearn.model_selection import train_test_split\r\n",
        "X_train[:, [5 ,6, 7, 8]] = imputer.fit_transform(X_train[:, [5, 6, 7, 8]])\r\n",
        "X_test[:, [5 ,6, 7, 8]] = imputer.transform(X_test[:, [5, 6, 7, 8]])\r\n",
        "from sklearn_pandas import CategoricalImputer\r\n",
        "categorical_imputer = CategoricalImputer(strategy = 'constant', fill_value = 'NA')\r\n",
        "X_train[:, [0, 9]] = categorical_imputer.fit_transform(X_train[:, [0, 9]])\r\n",
        "X_test[:, [0, 9]] = categorical_imputer.transform(X_test[:, [0, 9]])"
      ],
      "execution_count": 17,
      "outputs": []
    },
    {
      "cell_type": "markdown",
      "metadata": {
        "id": "S2JtzDGVS2l6"
      },
      "source": [
        "Imputation in ML is a method of replacing the missing data with substituted values. Here, we’ll use the Imputer class from the scikit-learn library to impute the columns with missing values and to impute the columns with values of type string, we’ll use CategoricalImputer from sklearn_pandas and replace the missing values with ‘NA’ i.e. Not Available."
      ]
    },
    {
      "cell_type": "code",
      "metadata": {
        "colab": {
          "base_uri": "https://localhost:8080/",
          "height": 393
        },
        "id": "kUsP7CBjDKRw",
        "outputId": "ca182c45-d677-41cc-9d62-c0eda14df672"
      },
      "source": [
        "df = pd.DataFrame(X_train)\r\n",
        "print(df.isna().sum())\r\n",
        "df.head()"
      ],
      "execution_count": 18,
      "outputs": [
        {
          "output_type": "stream",
          "text": [
            "0    0\n",
            "1    0\n",
            "2    0\n",
            "3    0\n",
            "4    0\n",
            "5    0\n",
            "6    0\n",
            "7    0\n",
            "8    0\n",
            "9    0\n",
            "dtype: int64\n"
          ],
          "name": "stdout"
        },
        {
          "output_type": "execute_result",
          "data": {
            "text/html": [
              "<div>\n",
              "<style scoped>\n",
              "    .dataframe tbody tr th:only-of-type {\n",
              "        vertical-align: middle;\n",
              "    }\n",
              "\n",
              "    .dataframe tbody tr th {\n",
              "        vertical-align: top;\n",
              "    }\n",
              "\n",
              "    .dataframe thead th {\n",
              "        text-align: right;\n",
              "    }\n",
              "</style>\n",
              "<table border=\"1\" class=\"dataframe\">\n",
              "  <thead>\n",
              "    <tr style=\"text-align: right;\">\n",
              "      <th></th>\n",
              "      <th>0</th>\n",
              "      <th>1</th>\n",
              "      <th>2</th>\n",
              "      <th>3</th>\n",
              "      <th>4</th>\n",
              "      <th>5</th>\n",
              "      <th>6</th>\n",
              "      <th>7</th>\n",
              "      <th>8</th>\n",
              "      <th>9</th>\n",
              "    </tr>\n",
              "  </thead>\n",
              "  <tbody>\n",
              "    <tr>\n",
              "      <th>0</th>\n",
              "      <td>Action</td>\n",
              "      <td>0</td>\n",
              "      <td>0</td>\n",
              "      <td>0.03</td>\n",
              "      <td>0</td>\n",
              "      <td>68.9034</td>\n",
              "      <td>26.5253</td>\n",
              "      <td>7.12724</td>\n",
              "      <td>160.464</td>\n",
              "      <td>NA</td>\n",
              "    </tr>\n",
              "    <tr>\n",
              "      <th>1</th>\n",
              "      <td>Shooter</td>\n",
              "      <td>1.54</td>\n",
              "      <td>1.18</td>\n",
              "      <td>1.46</td>\n",
              "      <td>0.26</td>\n",
              "      <td>81</td>\n",
              "      <td>88</td>\n",
              "      <td>8.5</td>\n",
              "      <td>1184</td>\n",
              "      <td>E10+</td>\n",
              "    </tr>\n",
              "    <tr>\n",
              "      <th>2</th>\n",
              "      <td>Simulation</td>\n",
              "      <td>0.14</td>\n",
              "      <td>0</td>\n",
              "      <td>0</td>\n",
              "      <td>0.01</td>\n",
              "      <td>68.9034</td>\n",
              "      <td>26.5253</td>\n",
              "      <td>7.12724</td>\n",
              "      <td>160.464</td>\n",
              "      <td>E</td>\n",
              "    </tr>\n",
              "    <tr>\n",
              "      <th>3</th>\n",
              "      <td>Racing</td>\n",
              "      <td>0</td>\n",
              "      <td>0.04</td>\n",
              "      <td>0</td>\n",
              "      <td>0.01</td>\n",
              "      <td>78</td>\n",
              "      <td>39</td>\n",
              "      <td>6.8</td>\n",
              "      <td>123</td>\n",
              "      <td>E</td>\n",
              "    </tr>\n",
              "    <tr>\n",
              "      <th>4</th>\n",
              "      <td>Platform</td>\n",
              "      <td>0.3</td>\n",
              "      <td>0.2</td>\n",
              "      <td>0</td>\n",
              "      <td>0.03</td>\n",
              "      <td>68.9034</td>\n",
              "      <td>26.5253</td>\n",
              "      <td>7.12724</td>\n",
              "      <td>160.464</td>\n",
              "      <td>NA</td>\n",
              "    </tr>\n",
              "  </tbody>\n",
              "</table>\n",
              "</div>"
            ],
            "text/plain": [
              "            0     1     2     3     4        5        6        7        8     9\n",
              "0      Action     0     0  0.03     0  68.9034  26.5253  7.12724  160.464    NA\n",
              "1     Shooter  1.54  1.18  1.46  0.26       81       88      8.5     1184  E10+\n",
              "2  Simulation  0.14     0     0  0.01  68.9034  26.5253  7.12724  160.464     E\n",
              "3      Racing     0  0.04     0  0.01       78       39      6.8      123     E\n",
              "4    Platform   0.3   0.2     0  0.03  68.9034  26.5253  7.12724  160.464    NA"
            ]
          },
          "metadata": {
            "tags": []
          },
          "execution_count": 18
        }
      ]
    },
    {
      "cell_type": "code",
      "metadata": {
        "id": "MaCMohjxDbwY"
      },
      "source": [
        "from sklearn.compose import ColumnTransformer\r\n",
        "from sklearn.preprocessing import OneHotEncoder\r\n",
        "ct = ColumnTransformer(transformers = [('encoder', OneHotEncoder(), [0, 9])], remainder = 'passthrough') \r\n",
        "X_train = ct.fit_transform(X_train)\r\n",
        "X_test = ct.transform(X_test)"
      ],
      "execution_count": 19,
      "outputs": []
    },
    {
      "cell_type": "markdown",
      "metadata": {
        "id": "9ajcaHVYS-GX"
      },
      "source": [
        "We encode the categorical columns of ‘X’ using ColumnTransformer and OneHotEncoder from the scikit-learn library. This will assign one separate column to each category present in a categorical column of ‘X’."
      ]
    },
    {
      "cell_type": "code",
      "metadata": {
        "colab": {
          "base_uri": "https://localhost:8080/"
        },
        "id": "ZpDDqF7VHYFA",
        "outputId": "c0bc5702-9d5f-41f3-8bc4-d752ffb01e83"
      },
      "source": [
        "import pandas as pd\r\n",
        "data = pd.read_csv('Video_Games_Sales_as_at_22_Dec_2016.csv')\r\n",
        "data.isnull().any()"
      ],
      "execution_count": 20,
      "outputs": [
        {
          "output_type": "execute_result",
          "data": {
            "text/plain": [
              "Name                True\n",
              "Platform           False\n",
              "Year_of_Release     True\n",
              "Genre               True\n",
              "Publisher           True\n",
              "NA_Sales           False\n",
              "EU_Sales           False\n",
              "JP_Sales           False\n",
              "Other_Sales        False\n",
              "Global_Sales       False\n",
              "Critic_Score        True\n",
              "Critic_Count        True\n",
              "User_Score          True\n",
              "User_Count          True\n",
              "Developer           True\n",
              "Rating              True\n",
              "dtype: bool"
            ]
          },
          "metadata": {
            "tags": []
          },
          "execution_count": 20
        }
      ]
    },
    {
      "cell_type": "code",
      "metadata": {
        "id": "yvkV8HW6IDht"
      },
      "source": [
        "data = data.fillna(lambda x: x.median())"
      ],
      "execution_count": 21,
      "outputs": []
    },
    {
      "cell_type": "code",
      "metadata": {
        "colab": {
          "base_uri": "https://localhost:8080/"
        },
        "id": "dFdk-Z51FM1L",
        "outputId": "74b4522e-0b74-4ec3-f2b8-65a827d029de"
      },
      "source": [
        "from xgboost import XGBRegressor\r\n",
        "model = XGBRegressor(n_estimators = 200, learning_rate= 0.08)\r\n",
        "model.fit(X_train, y_train)"
      ],
      "execution_count": 22,
      "outputs": [
        {
          "output_type": "stream",
          "text": [
            "[16:05:04] WARNING: /workspace/src/objective/regression_obj.cu:152: reg:linear is now deprecated in favor of reg:squarederror.\n"
          ],
          "name": "stdout"
        },
        {
          "output_type": "execute_result",
          "data": {
            "text/plain": [
              "XGBRegressor(base_score=0.5, booster='gbtree', colsample_bylevel=1,\n",
              "             colsample_bynode=1, colsample_bytree=1, gamma=0,\n",
              "             importance_type='gain', learning_rate=0.08, max_delta_step=0,\n",
              "             max_depth=3, min_child_weight=1, missing=None, n_estimators=200,\n",
              "             n_jobs=1, nthread=None, objective='reg:linear', random_state=0,\n",
              "             reg_alpha=0, reg_lambda=1, scale_pos_weight=1, seed=None,\n",
              "             silent=None, subsample=1, verbosity=1)"
            ]
          },
          "metadata": {
            "tags": []
          },
          "execution_count": 22
        }
      ]
    },
    {
      "cell_type": "markdown",
      "metadata": {
        "id": "RBFQJUOlXr2M"
      },
      "source": [
        "We’ll implement our model i.e. the regressor using XGBRegressor (where XGB stands for extreme gradient boosting). XGBoost is an ensemble machine learning algorithm based on decision trees similar to the RandomForest algorithm. However, unlike RandomForest that makes use of fully grown trees, XGBoost combines trees that are not too deep. Also, the number of trees combined in XGBoost is more in comparison to RandomForest. Ensemble algorithms effectively combine weak learners to produce a strong learner. XGBoost has additional features focused on performance and speed when compared to gradient boosting.\r\n",
        "\r\n"
      ]
    },
    {
      "cell_type": "code",
      "metadata": {
        "id": "-l_Jv4fHFcYv"
      },
      "source": [
        "# Predicting test set results\r\n",
        "y_pred = model.predict(X_test)\r\n",
        "# Visualising actual and predicted sales\r\n",
        "games_in_test_set = games_in_test_set.reshape(-1, 1)\r\n",
        "y_pred = y_pred.reshape(-1, 1)\r\n",
        "predictions = np.concatenate([games_in_test_set, y_pred, y_test], axis = 1)\r\n",
        "predictions = pd.DataFrame(predictions, columns = ['Name', 'Predicted_Global_Sales', 'Actual_Global_Sales'])"
      ],
      "execution_count": 23,
      "outputs": []
    },
    {
      "cell_type": "markdown",
      "metadata": {
        "id": "rIn5uSY5X8En"
      },
      "source": [
        "Global Sales i.e. the target variable ‘y’ for the games in the test set is predicted using the model.predict() method."
      ]
    },
    {
      "cell_type": "code",
      "metadata": {
        "colab": {
          "base_uri": "https://localhost:8080/"
        },
        "id": "G_RABQEJFios",
        "outputId": "d6468e40-954e-4d0d-e590-c46bdf4a45d2"
      },
      "source": [
        "from sklearn.metrics import r2_score, mean_squared_error\r\n",
        "import math\r\n",
        "r2_score = r2_score(y_test, y_pred)\r\n",
        "rmse = math.sqrt(mean_squared_error(y_test, y_pred))\r\n",
        "print(f\"r2 score of the model : {r2_score:.3f}\")\r\n",
        "print(f\"Root Mean Squared Error of the model : {rmse:.3f}\")"
      ],
      "execution_count": 25,
      "outputs": [
        {
          "output_type": "stream",
          "text": [
            "r2 score of the model : 0.972\n",
            "Root Mean Squared Error of the model : 0.242\n"
          ],
          "name": "stdout"
        }
      ]
    },
    {
      "cell_type": "markdown",
      "metadata": {
        "id": "AtxvWDabY5Eb"
      },
      "source": [
        "We’ll use r2_score  and root mean squared error (RMSE) to evaluate the model performance where closer the r2_score is to 1 & lower the magnitude of RMSE, the better the model is.\r\n",
        "\r\n"
      ]
    }
  ]
}